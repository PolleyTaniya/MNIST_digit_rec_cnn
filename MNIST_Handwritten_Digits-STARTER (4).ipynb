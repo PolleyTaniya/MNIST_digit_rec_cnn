{
 "cells": [
  {
   "cell_type": "markdown",
   "metadata": {},
   "source": [
    "# Introduction\n",
    "\n",
    "In this project, I have built a neural network to evaluate the MNIST dataset.\n",
    "\n",
    "Some of the benchmark results on MNIST include can be found [on Yann LeCun's page](https://webcache.googleusercontent.com/search?q=cache:stAVPik6onEJ:yann.lecun.com/exdb/mnist) and include:\n",
    "\n",
    "88% [Lecun et al., 1998](https://hal.science/hal-03926082/document)\n",
    "\n",
    "95.3% [Lecun et al., 1998](https://hal.science/hal-03926082v1/document)\n",
    "\n",
    "99.65% [Ciresan et al., 2011](http://people.idsia.ch/~juergen/ijcai2011.pdf)\n",
    "\n",
    "\n",
    "MNIST is a great dataset for sanity checking your models, since the accuracy levels achieved by large convolutional neural networks and small linear models are both quite high. This makes it important to be familiar with the data.\n",
    "\n",
    "## Installation"
   ]
  },
  {
   "cell_type": "code",
   "execution_count": 1,
   "metadata": {},
   "outputs": [
    {
     "name": "stdout",
     "output_type": "stream",
     "text": [
      "Defaulting to user installation because normal site-packages is not writeable\n",
      "Collecting ipywidgets==8.1.5\n",
      "  Downloading ipywidgets-8.1.5-py3-none-any.whl (139 kB)\n",
      "\u001b[K     |████████████████████████████████| 139 kB 2.8 MB/s eta 0:00:01\n",
      "\u001b[?25hCollecting jupyterlab-widgets~=3.0.12\n",
      "  Downloading jupyterlab_widgets-3.0.15-py3-none-any.whl (216 kB)\n",
      "\u001b[K     |████████████████████████████████| 216 kB 36.8 MB/s eta 0:00:01\n",
      "\u001b[?25hRequirement already satisfied: ipython>=6.1.0 in /opt/conda/lib/python3.7/site-packages (from ipywidgets==8.1.5->-r requirements.txt (line 1)) (7.13.0)\n",
      "Collecting comm>=0.1.3\n",
      "  Downloading comm-0.1.4-py3-none-any.whl (6.6 kB)\n",
      "Collecting widgetsnbextension~=4.0.12\n",
      "  Downloading widgetsnbextension-4.0.14-py3-none-any.whl (2.2 MB)\n",
      "\u001b[K     |████████████████████████████████| 2.2 MB 80.8 MB/s eta 0:00:01\n",
      "\u001b[?25hRequirement already satisfied: traitlets>=4.3.1 in /opt/conda/lib/python3.7/site-packages (from ipywidgets==8.1.5->-r requirements.txt (line 1)) (4.3.3)\n",
      "Requirement already satisfied: pickleshare in /opt/conda/lib/python3.7/site-packages (from ipython>=6.1.0->ipywidgets==8.1.5->-r requirements.txt (line 1)) (0.7.5)\n",
      "Requirement already satisfied: jedi>=0.10 in /opt/conda/lib/python3.7/site-packages (from ipython>=6.1.0->ipywidgets==8.1.5->-r requirements.txt (line 1)) (0.16.0)\n",
      "Requirement already satisfied: prompt-toolkit!=3.0.0,!=3.0.1,<3.1.0,>=2.0.0 in /opt/conda/lib/python3.7/site-packages (from ipython>=6.1.0->ipywidgets==8.1.5->-r requirements.txt (line 1)) (3.0.3)\n",
      "Requirement already satisfied: pexpect; sys_platform != \"win32\" in /opt/conda/lib/python3.7/site-packages (from ipython>=6.1.0->ipywidgets==8.1.5->-r requirements.txt (line 1)) (4.8.0)\n",
      "Requirement already satisfied: backcall in /opt/conda/lib/python3.7/site-packages (from ipython>=6.1.0->ipywidgets==8.1.5->-r requirements.txt (line 1)) (0.1.0)\n",
      "Requirement already satisfied: decorator in /opt/conda/lib/python3.7/site-packages (from ipython>=6.1.0->ipywidgets==8.1.5->-r requirements.txt (line 1)) (4.4.2)\n",
      "Requirement already satisfied: pygments in /opt/conda/lib/python3.7/site-packages (from ipython>=6.1.0->ipywidgets==8.1.5->-r requirements.txt (line 1)) (2.5.2)\n",
      "Requirement already satisfied: setuptools>=18.5 in /opt/conda/lib/python3.7/site-packages (from ipython>=6.1.0->ipywidgets==8.1.5->-r requirements.txt (line 1)) (45.2.0.post20200209)\n",
      "Requirement already satisfied: ipython-genutils in /opt/conda/lib/python3.7/site-packages (from traitlets>=4.3.1->ipywidgets==8.1.5->-r requirements.txt (line 1)) (0.2.0)\n",
      "Requirement already satisfied: six in /opt/conda/lib/python3.7/site-packages (from traitlets>=4.3.1->ipywidgets==8.1.5->-r requirements.txt (line 1)) (1.16.0)\n",
      "Requirement already satisfied: parso>=0.5.2 in /opt/conda/lib/python3.7/site-packages (from jedi>=0.10->ipython>=6.1.0->ipywidgets==8.1.5->-r requirements.txt (line 1)) (0.6.1)\n",
      "Requirement already satisfied: wcwidth in /opt/conda/lib/python3.7/site-packages (from prompt-toolkit!=3.0.0,!=3.0.1,<3.1.0,>=2.0.0->ipython>=6.1.0->ipywidgets==8.1.5->-r requirements.txt (line 1)) (0.1.8)\n",
      "Requirement already satisfied: ptyprocess>=0.5 in /opt/conda/lib/python3.7/site-packages (from pexpect; sys_platform != \"win32\"->ipython>=6.1.0->ipywidgets==8.1.5->-r requirements.txt (line 1)) (0.6.0)\n",
      "Installing collected packages: jupyterlab-widgets, comm, widgetsnbextension, ipywidgets\n",
      "Successfully installed comm-0.1.4 ipywidgets-8.1.5 jupyterlab-widgets-3.0.15 widgetsnbextension-4.0.14\n"
     ]
    }
   ],
   "source": [
    "# Restart the Kernel after you execute this command.\n",
    "\n",
    "!python -m pip install -r requirements.txt"
   ]
  },
  {
   "cell_type": "markdown",
   "metadata": {},
   "source": [
    "**Important: Restart the Kernel at this moment**"
   ]
  },
  {
   "cell_type": "markdown",
   "metadata": {},
   "source": [
    "## Imports"
   ]
  },
  {
   "cell_type": "code",
   "execution_count": 1,
   "metadata": {},
   "outputs": [],
   "source": [
    "## This cell contains the essential imports you will need – DO NOT CHANGE THE CONTENTS! ##\n",
    "import torch\n",
    "import torch.nn as nn\n",
    "import torch.nn.functional as F\n",
    "import torch.optim as optim\n",
    "import torchvision\n",
    "import torchvision.transforms as transforms\n",
    "import matplotlib.pyplot as plt\n",
    "import numpy as np"
   ]
  },
  {
   "cell_type": "code",
   "execution_count": 2,
   "metadata": {},
   "outputs": [
    {
     "name": "stdout",
     "output_type": "stream",
     "text": [
      "Enabling notebook extension jupyter-js-widgets/extension...\r\n",
      "Traceback (most recent call last):\r\n",
      "  File \"/opt/conda/bin/jupyter-nbextension\", line 11, in <module>\r\n",
      "    sys.exit(main())\r\n",
      "  File \"/opt/conda/lib/python3.7/site-packages/jupyter_core/application.py\", line 270, in launch_instance\r\n",
      "    return super(JupyterApp, cls).launch_instance(argv=argv, **kwargs)\r\n",
      "  File \"/opt/conda/lib/python3.7/site-packages/traitlets/config/application.py\", line 664, in launch_instance\r\n",
      "    app.start()\r\n",
      "  File \"/opt/conda/lib/python3.7/site-packages/notebook/nbextensions.py\", line 988, in start\r\n",
      "    super(NBExtensionApp, self).start()\r\n",
      "  File \"/opt/conda/lib/python3.7/site-packages/jupyter_core/application.py\", line 259, in start\r\n",
      "    self.subapp.start()\r\n",
      "  File \"/opt/conda/lib/python3.7/site-packages/notebook/nbextensions.py\", line 896, in start\r\n",
      "    self.toggle_nbextension_python(self.extra_args[0])\r\n",
      "  File \"/opt/conda/lib/python3.7/site-packages/notebook/nbextensions.py\", line 872, in toggle_nbextension_python\r\n",
      "    logger=self.log)\r\n",
      "  File \"/opt/conda/lib/python3.7/site-packages/notebook/nbextensions.py\", line 483, in enable_nbextension_python\r\n",
      "    logger=logger)\r\n",
      "  File \"/opt/conda/lib/python3.7/site-packages/notebook/nbextensions.py\", line 386, in _set_nbextension_state_python\r\n",
      "    for nbext in nbexts]\r\n",
      "  File \"/opt/conda/lib/python3.7/site-packages/notebook/nbextensions.py\", line 386, in <listcomp>\r\n",
      "    for nbext in nbexts]\r\n",
      "  File \"/opt/conda/lib/python3.7/site-packages/notebook/nbextensions.py\", line 351, in _set_nbextension_state\r\n",
      "    cm.update(section, {\"load_extensions\": {require: state}})\r\n",
      "  File \"/opt/conda/lib/python3.7/site-packages/notebook/config_manager.py\", line 136, in update\r\n",
      "    self.set(section_name, data)\r\n",
      "  File \"/opt/conda/lib/python3.7/site-packages/notebook/config_manager.py\", line 110, in set\r\n",
      "    self.ensure_config_dir_exists()\r\n",
      "  File \"/opt/conda/lib/python3.7/site-packages/notebook/config_manager.py\", line 67, in ensure_config_dir_exists\r\n",
      "    os.makedirs(self.config_dir, 0o755)\r\n",
      "  File \"/opt/conda/lib/python3.7/os.py\", line 221, in makedirs\r\n",
      "    mkdir(name, mode)\r\n",
      "OSError: [Errno 30] Read-only file system: '/opt/conda/etc/jupyter/nbconfig'\r\n"
     ]
    }
   ],
   "source": [
    "from torchvision import datasets, transforms\n",
    "from torch.utils.data import DataLoader\n",
    "!jupyter nbextension enable --py widgetsnbextension --sys-prefix"
   ]
  },
  {
   "cell_type": "code",
   "execution_count": 3,
   "metadata": {},
   "outputs": [
    {
     "name": "stdout",
     "output_type": "stream",
     "text": [
      "Python 3.7.6\r\n"
     ]
    }
   ],
   "source": [
    "!python --version"
   ]
  },
  {
   "cell_type": "markdown",
   "metadata": {},
   "source": [
    "## Load the Dataset\n",
    "\n",
    "Specify transforms as a list.\n",
    "The transforms module is already loaded as `transforms`.\n",
    "\n",
    "MNIST is fortunately included in the torchvision module.\n",
    "Then, we can create our dataset using the `MNIST` object from `torchvision.datasets` ([the documentation is available here](https://pytorch.org/vision/stable/datasets.html#mnist)).\n",
    "Make sure to specify `download=True`! \n",
    "\n",
    "Once the dataset is created, we also need to define a `DataLoader` from the `torch.utils.data` module for both the train and the test set."
   ]
  },
  {
   "cell_type": "code",
   "execution_count": 4,
   "metadata": {},
   "outputs": [
    {
     "name": "stderr",
     "output_type": "stream",
     "text": [
      "/opt/conda/lib/python3.7/site-packages/torchvision/datasets/mnist.py:498: UserWarning: The given NumPy array is not writable, and PyTorch does not support non-writable tensors. This means writing to this tensor will result in undefined behavior. You may want to copy the array to protect its data or make it writable before converting it to a tensor. This type of warning will be suppressed for the rest of this program. (Triggered internally at  ../torch/csrc/utils/tensor_numpy.cpp:178.)\n",
      "  return torch.from_numpy(parsed.astype(m[2], copy=False)).view(*s)\n"
     ]
    }
   ],
   "source": [
    "# Define transforms\n",
    "transform = transforms.Compose([\n",
    "    transforms.ToTensor(), \n",
    "])\n",
    "\n",
    "\n",
    "# Create training set \n",
    "trainset = datasets.MNIST(root = \"./data\", train = True, download = True, transform = transform)\n",
    "# Create test set\n",
    "testset = datasets.MNIST(root = \"./data\", train = False, download = True, transform = transform)\n",
    "# Create valid data set\n",
    "from torch.utils.data import random_split\n",
    "\n",
    "train_size = int(0.8 * len(trainset))  \n",
    "val_size = len(trainset) - train_size  \n",
    "\n",
    "trainset, validset = random_split(trainset, [train_size, val_size])\n",
    "# Create Data loader\n",
    "trainloader = DataLoader(trainset, batch_size = 64, shuffle = True)\n",
    "testloader = DataLoader(testset, batch_size = 64, shuffle = True)\n",
    "validloader = DataLoader(validset, batch_size = 64, shuffle = True)"
   ]
  },
  {
   "cell_type": "markdown",
   "metadata": {},
   "source": [
    "**DOUBLE CLICK THIS CELL TO MODIFY**"
   ]
  },
  {
   "cell_type": "markdown",
   "metadata": {},
   "source": [
    "## Explore the Dataset\n",
    "Using matplotlib, numpy, and torch, explore the dimensions of your data.\n",
    "\n",
    "We can view images using the `show5` function defined below – it takes a data loader as an argument.\n",
    "Normalized images will look really weird! \n",
    "Typically using no transforms other than `toTensor()` works well for viewing – but not as well for training the network.\n",
    "If `show5` doesn't work, go back and check your code for creating your data loaders and your training/test sets."
   ]
  },
  {
   "cell_type": "code",
   "execution_count": null,
   "metadata": {},
   "outputs": [],
   "source": [
    "## This cell contains a function for showing 5 images from a dataloader – DO NOT CHANGE THE CONTENTS! ##\n",
    "def show5(img_loader):\n",
    "    dataiter = iter(img_loader)\n",
    "    \n",
    "    batch = next(dataiter)\n",
    "    labels = batch[1][0:5]\n",
    "    images = batch[0][0:5]\n",
    "    for i in range(5):\n",
    "        print(int(labels[i].detach()))\n",
    "    \n",
    "        image = images[i].numpy()\n",
    "        plt.imshow(image.T.squeeze().T)\n",
    "        plt.show()"
   ]
  },
  {
   "cell_type": "code",
   "execution_count": null,
   "metadata": {},
   "outputs": [
    {
     "name": "stdout",
     "output_type": "stream",
     "text": [
      "2\n"
     ]
    },
    {
     "data": {
      "image/png": "[encoded data removed]",
      "text/plain": [
       "<Figure size 432x288 with 1 Axes>"
      ]
     },
     "metadata": {
      "needs_background": "light"
     },
     "output_type": "display_data"
    },
    {
     "name": "stdout",
     "output_type": "stream",
     "text": [
      "4\n"
     ]
    },
    {
     "data": {
      "image/png": "[encoded data removed]",
      "text/plain": [
       "<Figure size 432x288 with 1 Axes>"
      ]
     },
     "metadata": {
      "needs_background": "light"
     },
     "output_type": "display_data"
    },
    {
     "name": "stdout",
     "output_type": "stream",
     "text": [
      "4\n"
     ]
    },
    {
     "data": {
      "image/png": "[encoded data removed]",
      "text/plain": [
       "<Figure size 432x288 with 1 Axes>"
      ]
     },
     "metadata": {
      "needs_background": "light"
     },
     "output_type": "display_data"
    },
    {
     "name": "stdout",
     "output_type": "stream",
     "text": [
      "3\n"
     ]
    },
    {
     "data": {
      "image/png": "[encoded data removed]",
      "text/plain": [
       "<Figure size 432x288 with 1 Axes>"
      ]
     },
     "metadata": {
      "needs_background": "light"
     },
     "output_type": "display_data"
    },
    {
     "name": "stdout",
     "output_type": "stream",
     "text": [
      "7\n"
     ]
    },
    {
     "data": {
      "image/png": "[encoded data removed]",
      "text/plain": [
       "<Figure size 432x288 with 1 Axes>"
      ]
     },
     "metadata": {
      "needs_background": "light"
     },
     "output_type": "display_data"
    }
   ],
   "source": [
    "# Explore data\n",
    "## YOUR CODE HERE ##\n",
    "show5(trainloader)"
   ]
  },
  {
   "cell_type": "markdown",
   "metadata": {},
   "source": [
    "## Build your Neural Network"
   ]
  },
  {
   "cell_type": "markdown",
   "metadata": {},
   "source": [
    "## Network Structure\n",
    "\n",
    "*Input images shape [batch_size = 64, 1, 28, 28]*\n",
    "\n",
    "**Convolutional layer 1**\n",
    "1. Applies 32 filters of size 3x3\n",
    "2. Keeps spatial size same due to\n",
    "3. Output shape: [batch_size = 64, 32, 28, 28]\n",
    "\n",
    "**Convolutional layer 2**\n",
    "1. Applies 64 filters of size 3x3\n",
    "2. Output Shape: [batch_size = 64, 64, 28, 28]\n",
    "\n",
    "**Max Pooling Layer**\n",
    "1. Reduces height and width by half (2×2)\n",
    "2. After both conv+pool blocks, image shape: [batch_size = 64, 64, 7, 7]\n",
    "\n",
    "**Flatten and Fully Connected layers(fc1 and fc2)**\n",
    "1. Flattens the 64×7×7 feature map to a 1D vector of 3136 values\n",
    "2. Fully connected layer transforms the features into a 128-dimensional vector(fc1)\n",
    "3. Output of 10 values — one per digit class (0–9)(fc2).\n",
    "\n",
    "**Dropout Layer**\n",
    "1. Randomly drops 25% of neurons during training to prevent overfitting\n",
    "\n",
    "Relu activation function is used in the hidden layer."
   ]
  },
  {
   "cell_type": "code",
   "execution_count": 7,
   "metadata": {},
   "outputs": [],
   "source": [
    "class MyCNN(nn.Module):\n",
    "    def __init__(self):\n",
    "        super(MyCNN, self).__init__()\n",
    "\n",
    "        self.conv1 = nn.Conv2d(in_channels = 1, out_channels = 32, kernel_size = 3, padding = 1)\n",
    "        self.conv2 = nn.Conv2d(32, 64, kernel_size=3, padding=1)\n",
    "\n",
    "        self.pool = nn.MaxPool2d(2, 2)\n",
    "\n",
    "        self.flatten = nn.Flatten()\n",
    "        self.fc1 = nn.Linear(64*7*7, 128)           \n",
    "        self.fc2 = nn.Linear(128, 10)           \n",
    "        \n",
    "        self.dropout = nn.Dropout(0.25)                   #Randomly drops 25% of neurons.\n",
    "\n",
    "    def forward(self, x):\n",
    "        x = self.pool(F.relu(self.conv1(x)))                       \n",
    "        x = self.pool(F.relu(self.conv2(x)))                  \n",
    "        x = x.view(-1, 64*7*7)                   \n",
    "        x = F.relu(self.fc1(x))\n",
    "        x = self.dropout(x)\n",
    "        x = self.fc2(x)\n",
    "        return x"
   ]
  },
  {
   "cell_type": "markdown",
   "metadata": {},
   "source": [
    "Specify a loss function and an optimizer, and instantiate the model."
   ]
  },
  {
   "cell_type": "code",
   "execution_count": 13,
   "metadata": {},
   "outputs": [],
   "source": [
    "## Loss Function\n",
    "def cross_entropy_loss(probs, targets):\n",
    "    \"\"\"Mean cross‑entropy loss.\n",
    "    `probs` shape (N,10) after softmax\n",
    "    `targets` is long tensor of labels (N,)\"\"\"\n",
    "    N = probs.shape[0]\n",
    "    log_prob = np.log(probs)\n",
    "    log_prob_target = log_prob[np.arange(N), targets]\n",
    "    return -np.sum(log_prob_target)/ N\n",
    "\n",
    "model = MyCNN()\n",
    "criterion = nn.CrossEntropyLoss()\n",
    "optimizer = optim.SGD(model.parameters(), lr=0.01)\n",
    "\n",
    "inputs = torch.randn(64, 1, 28, 28)\n",
    "labels = torch.randint(0, 10, (32,))\n"
   ]
  },
  {
   "cell_type": "markdown",
   "metadata": {},
   "source": [
    "## Running Neural Network\n",
    "Train the neural network, and record the average loss at each epoch. \n",
    "Don't forget to use `torch.device()` and the `.to()` method for both your model and your data if you are using GPU!\n",
    "\n",
    "If you want to print your loss **during** each epoch, you can use the `enumerate` function and print the loss after a set number of batches. 250 batches works well for most people!"
   ]
  },
  {
   "cell_type": "code",
   "execution_count": 14,
   "metadata": {},
   "outputs": [
    {
     "name": "stdout",
     "output_type": "stream",
     "text": [
      "Train batch shape: torch.Size([64, 1, 28, 28])\n",
      "Train batch shape: torch.Size([64, 1, 28, 28])\n"
     ]
    }
   ],
   "source": [
    "# Check shapes in trainloader\n",
    "for images, labels in trainloader:\n",
    "    print(f\"Train batch shape: {images.shape}\")  \n",
    "    break\n",
    "# Check shapes in testloader\n",
    "for images, labels in testloader:\n",
    "    print(f\"Train batch shape: {images.shape}\")  \n",
    "    break"
   ]
  },
  {
   "cell_type": "code",
   "execution_count": 11,
   "metadata": {},
   "outputs": [
    {
     "name": "stdout",
     "output_type": "stream",
     "text": [
      "CUDA is available! 🟢\n"
     ]
    }
   ],
   "source": [
    "import torch\n",
    "\n",
    "if torch.cuda.is_available():\n",
    "    print(\"CUDA is available! 🟢\")\n",
    "    device = torch.device(\"cuda\")\n",
    "else:\n",
    "    print(\"CUDA is NOT available. Using CPU. 🔴\")\n",
    "    device = torch.device(\"cpu\")"
   ]
  },
  {
   "cell_type": "code",
   "execution_count": 12,
   "metadata": {},
   "outputs": [
    {
     "name": "stdout",
     "output_type": "stream",
     "text": [
      "Epoch 1, Loss: 2.3040\n",
      "Epoch 2, Loss: 2.3039\n",
      "Epoch 3, Loss: 2.3038\n",
      "Epoch 4, Loss: 2.3039\n",
      "Epoch 5, Loss: 2.3040\n",
      "Validation Accuracy: 11.49%\n"
     ]
    }
   ],
   "source": [
    "## Running the network\n",
    "model = MyCNN().to(device)\n",
    "# Initialize list to store average training loss per epoch\n",
    "train_losses = []\n",
    "epochs = 5\n",
    "\n",
    "for epoch in range(epochs):\n",
    "    running_loss = 0.0\n",
    "    \n",
    "    model.train()\n",
    "    for images, labels in trainloader:\n",
    "        images, labels = images.to(device), labels.to(device)\n",
    "        #---------------Forward Pass--------------#\n",
    "        output = model(images)\n",
    "        loss = criterion(output, labels)\n",
    "\n",
    "        #---------------Backward Pass--------------#\n",
    "        optimizer.zero_grad()\n",
    "        loss.backward()\n",
    "        optimizer.step()\n",
    "\n",
    "        running_loss += loss.item()\n",
    "\n",
    "    avg_loss = running_loss / len(trainloader)\n",
    "    train_losses.append(avg_loss)\n",
    "    print(f\"Epoch {epoch+1}, Loss: {running_loss/len(trainloader):.4f}\")\n",
    "\n",
    "    # Validation after each epoch\n",
    "\n",
    "    model.eval()\n",
    "    correct = 0\n",
    "    total = 0\n",
    "    with torch.no_grad():\n",
    "        for images, labels in validloader:\n",
    "            images, labels = images.to(device), labels.to(device)\n",
    "\n",
    "            val_output = model(images)\n",
    "            _, predicted = torch.max(val_output, 1)  # Get index of the max log-probability\n",
    "            total += labels.size(0)\n",
    "            correct += (predicted == labels).sum().item()\n",
    "\n",
    "accuracy = correct * 100 / total\n",
    "print(f'Validation Accuracy: {accuracy:.2f}%')"
   ]
  },
  {
   "cell_type": "markdown",
   "metadata": {},
   "source": [
    "Plot the training loss (and validation loss/accuracy, if recorded)."
   ]
  },
  {
   "cell_type": "code",
   "execution_count": 15,
   "metadata": {},
   "outputs": [
    {
     "data": {
      "image/png": "[encoded data removed]",
      "text/plain": [
       "<Figure size 432x288 with 1 Axes>"
      ]
     },
     "metadata": {
      "needs_background": "light"
     },
     "output_type": "display_data"
    }
   ],
   "source": [
    "plt.plot(range(1, epochs+1), train_losses, marker = \"o\")\n",
    "plt.title(\"Training loss per Epoch\")\n",
    "plt.xlabel(\"Epochs\")\n",
    "plt.ylabel(\"Training Loss\")\n",
    "plt.show()"
   ]
  },
  {
   "cell_type": "markdown",
   "metadata": {},
   "source": [
    "## Testing your model\n",
    "Using the previously created `DataLoader` for the test set, compute the percentage of correct predictions using the highest probability prediction. \n",
    "\n",
    "If your accuracy is over 90%, great work, but see if you can push a bit further! \n",
    "If your accuracy is under 90%, you'll need to make improvements.\n",
    "Go back and check your model architecture, loss function, and optimizer to make sure they're appropriate for an image classification task."
   ]
  },
  {
   "cell_type": "code",
   "execution_count": 18,
   "metadata": {},
   "outputs": [
    {
     "name": "stdout",
     "output_type": "stream",
     "text": [
      "Test Accuracy: 10.21%\n"
     ]
    }
   ],
   "source": [
    "model = model.to(device)\n",
    "model.eval()\n",
    "\n",
    "correct = 0\n",
    "total = 0\n",
    "\n",
    "with torch.no_grad():\n",
    "    for images, labels in testloader:\n",
    "        images, labels = images.to(device), labels.to(device)\n",
    "        output = model(images)\n",
    "        _, predicted = torch.max(output, 1)  # Get index of the max log-probability\n",
    "        total += labels.size(0)\n",
    "        correct += (predicted == labels).sum().item()\n",
    "\n",
    "accuracy = correct * 100 / total\n",
    "print(f'Test Accuracy: {accuracy:.2f}%')"
   ]
  },
  {
   "cell_type": "markdown",
   "metadata": {},
   "source": [
    "## Improving your model\n",
    "to improve accuracy on the test set!"
   ]
  },
  {
   "cell_type": "markdown",
   "metadata": {},
   "source": [
    "**Hyperparameter tuning - Changed the optimizer**"
   ]
  },
  {
   "cell_type": "code",
   "execution_count": 19,
   "metadata": {},
   "outputs": [
    {
     "name": "stdout",
     "output_type": "stream",
     "text": [
      "Epoch 1, Loss: 0.2389\n",
      "Epoch 2, Loss: 0.0738\n",
      "Epoch 3, Loss: 0.0523\n",
      "Epoch 4, Loss: 0.0417\n",
      "Epoch 5, Loss: 0.0339\n",
      "Validation Accuracy: 99.11%\n",
      "Test Accuracy: 99.07%\n"
     ]
    }
   ],
   "source": [
    "\n",
    "optimizer = torch.optim.Adam(model.parameters(), lr=0.001) \n",
    "\n",
    "\n",
    "for epoch in range(epochs):\n",
    "    running_loss = 0.0\n",
    "    \n",
    "    model.train()\n",
    "    for images, labels in trainloader:\n",
    "        images, labels = images.to(device), labels.to(device)\n",
    "        #---------------Forward Pass--------------#\n",
    "        output = model(images)\n",
    "        loss = criterion(output, labels)\n",
    "\n",
    "        #---------------Backward Pass--------------#\n",
    "        optimizer.zero_grad()\n",
    "        loss.backward()\n",
    "        optimizer.step()\n",
    "\n",
    "        running_loss += loss.item()\n",
    "\n",
    "    avg_loss = running_loss / len(trainloader)\n",
    "    train_losses.append(avg_loss)\n",
    "    print(f\"Epoch {epoch+1}, Loss: {running_loss/len(trainloader):.4f}\")\n",
    "\n",
    "    # Validation after each epoch\n",
    "\n",
    "    model.eval()\n",
    "    correct = 0\n",
    "    total = 0\n",
    "    with torch.no_grad():\n",
    "        for images, labels in validloader:\n",
    "            images, labels = images.to(device), labels.to(device)\n",
    "\n",
    "            val_output = model(images)\n",
    "            _, predicted = torch.max(val_output, 1)  # Get index of the max log-probability\n",
    "            total += labels.size(0)\n",
    "            correct += (predicted == labels).sum().item()\n",
    "\n",
    "accuracy = correct * 100 / total\n",
    "print(f'Validation Accuracy: {accuracy:.2f}%')\n",
    "\n",
    "\n",
    "# Testing Model with Test set\n",
    "model.eval()\n",
    "\n",
    "correct = 0\n",
    "total = 0\n",
    "\n",
    "with torch.no_grad():\n",
    "    for images, labels in testloader:\n",
    "        images, labels = images.to(device), labels.to(device)\n",
    "        output = model(images)\n",
    "        _, predicted = torch.max(output, 1)  # Get index of the max log-probability\n",
    "        total += labels.size(0)\n",
    "        correct += (predicted == labels).sum().item()\n",
    "\n",
    "accuracy = correct * 100 / total\n",
    "print(f'Test Accuracy: {accuracy:.2f}%')"
   ]
  },
  {
   "cell_type": "code",
   "execution_count": null,
   "metadata": {},
   "outputs": [],
   "source": []
  },
  {
   "cell_type": "markdown",
   "metadata": {},
   "source": [
    "## Saving your model\n",
    "Using `torch.save`, save your model for future loading."
   ]
  },
  {
   "cell_type": "code",
   "execution_count": 23,
   "metadata": {},
   "outputs": [],
   "source": [
    "torch.save(model.state_dict(), 'model.pth')"
   ]
  },
  {
   "cell_type": "code",
   "execution_count": null,
   "metadata": {},
   "outputs": [],
   "source": []
  }
 ],
 "metadata": {
  "kernelspec": {
   "display_name": "Python 3",
   "language": "python",
   "name": "python3"
  },
  "language_info": {
   "codemirror_mode": {
    "name": "ipython",
    "version": 3
   },
   "file_extension": ".py",
   "mimetype": "text/x-python",
   "name": "python",
   "nbconvert_exporter": "python",
   "pygments_lexer": "ipython3",
   "version": "3.7.6"
  }
 },
 "nbformat": 4,
 "nbformat_minor": 4
}
